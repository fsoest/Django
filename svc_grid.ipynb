{
  "nbformat": 4,
  "nbformat_minor": 0,
  "metadata": {
    "colab": {
      "name": "Untitled6.ipynb",
      "provenance": [],
      "include_colab_link": true
    },
    "kernelspec": {
      "name": "python3",
      "display_name": "Python 3"
    }
  },
  "cells": [
    {
      "cell_type": "markdown",
      "metadata": {
        "id": "view-in-github",
        "colab_type": "text"
      },
      "source": [
        "<a href=\"https://colab.research.google.com/github/fsoest/Django/blob/master/svc_grid.ipynb\" target=\"_parent\"><img src=\"https://colab.research.google.com/assets/colab-badge.svg\" alt=\"Open In Colab\"/></a>"
      ]
    },
    {
      "cell_type": "code",
      "metadata": {
        "id": "FxWlaqiQpgaA",
        "colab_type": "code",
        "colab": {
          "base_uri": "https://localhost:8080/",
          "height": 105
        },
        "outputId": "c8d47674-7f6f-49b7-cdc9-b0690c99bf4f"
      },
      "source": [
        "import pandas as pd\n",
        "from sklearn.ensemble import RandomForestClassifier\n",
        "from sklearn.preprocessing import StandardScaler\n",
        "from sklearn.model_selection import train_test_split\n",
        "from sklearn.decomposition import PCA\n",
        "from sklearn.svm import SVC\n",
        "from sklearn.tree import DecisionTreeClassifier\n",
        "from sklearn.model_selection import GridSearchCV\n",
        "import numpy as np\n",
        "# %%\n",
        "data = pd.read_csv('https://raw.githubusercontent.com/fsoest/ml/master/avq/AVQ_data.csv')\n",
        "rand = 42\n",
        "# %%\n",
        "total = data[['beta', 'eps_d', 'v_rad', 'n_wz', 'd0', 's_ax', 'Tu', 'alfa', 'kappa', 'v_ax', 'rillen_io']]\n",
        "total.dropna(inplace=True)\n"
      ],
      "execution_count": 22,
      "outputs": [
        {
          "output_type": "stream",
          "text": [
            "/usr/local/lib/python3.6/dist-packages/ipykernel_launcher.py:15: SettingWithCopyWarning: \n",
            "A value is trying to be set on a copy of a slice from a DataFrame\n",
            "\n",
            "See the caveats in the documentation: http://pandas.pydata.org/pandas-docs/stable/user_guide/indexing.html#returning-a-view-versus-a-copy\n",
            "  from ipykernel import kernelapp as app\n"
          ],
          "name": "stderr"
        }
      ]
    },
    {
      "cell_type": "code",
      "metadata": {
        "id": "lMA0zd-gphYl",
        "colab_type": "code",
        "colab": {}
      },
      "source": [
        ""
      ],
      "execution_count": 0,
      "outputs": []
    },
    {
      "cell_type": "code",
      "metadata": {
        "id": "NQy_4rsipqk2",
        "colab_type": "code",
        "colab": {}
      },
      "source": [
        "total = total[total['rillen_io'] < 3]"
      ],
      "execution_count": 0,
      "outputs": []
    },
    {
      "cell_type": "code",
      "metadata": {
        "id": "UhTaS-3ipwKv",
        "colab_type": "code",
        "colab": {
          "base_uri": "https://localhost:8080/",
          "height": 202
        },
        "outputId": "1854ea6c-61fa-4a1a-b42f-0da4546379a1"
      },
      "source": [
        "total.sort_values('rillen_io', ascending=False).head()"
      ],
      "execution_count": 24,
      "outputs": [
        {
          "output_type": "execute_result",
          "data": {
            "text/html": [
              "<div>\n",
              "<style scoped>\n",
              "    .dataframe tbody tr th:only-of-type {\n",
              "        vertical-align: middle;\n",
              "    }\n",
              "\n",
              "    .dataframe tbody tr th {\n",
              "        vertical-align: top;\n",
              "    }\n",
              "\n",
              "    .dataframe thead th {\n",
              "        text-align: right;\n",
              "    }\n",
              "</style>\n",
              "<table border=\"1\" class=\"dataframe\">\n",
              "  <thead>\n",
              "    <tr style=\"text-align: right;\">\n",
              "      <th></th>\n",
              "      <th>beta</th>\n",
              "      <th>eps_d</th>\n",
              "      <th>v_rad</th>\n",
              "      <th>n_wz</th>\n",
              "      <th>d0</th>\n",
              "      <th>s_ax</th>\n",
              "      <th>Tu</th>\n",
              "      <th>alfa</th>\n",
              "      <th>kappa</th>\n",
              "      <th>v_ax</th>\n",
              "      <th>rillen_io</th>\n",
              "    </tr>\n",
              "  </thead>\n",
              "  <tbody>\n",
              "    <tr>\n",
              "      <th>153</th>\n",
              "      <td>2.0</td>\n",
              "      <td>0.2</td>\n",
              "      <td>0.2</td>\n",
              "      <td>40</td>\n",
              "      <td>50</td>\n",
              "      <td>150</td>\n",
              "      <td>1000</td>\n",
              "      <td>55</td>\n",
              "      <td>1</td>\n",
              "      <td>1.26</td>\n",
              "      <td>2.0</td>\n",
              "    </tr>\n",
              "    <tr>\n",
              "      <th>125</th>\n",
              "      <td>4.0</td>\n",
              "      <td>0.3</td>\n",
              "      <td>0.2</td>\n",
              "      <td>40</td>\n",
              "      <td>50</td>\n",
              "      <td>150</td>\n",
              "      <td>1000</td>\n",
              "      <td>30</td>\n",
              "      <td>10</td>\n",
              "      <td>2.67</td>\n",
              "      <td>2.0</td>\n",
              "    </tr>\n",
              "    <tr>\n",
              "      <th>126</th>\n",
              "      <td>4.0</td>\n",
              "      <td>0.3</td>\n",
              "      <td>0.2</td>\n",
              "      <td>40</td>\n",
              "      <td>50</td>\n",
              "      <td>150</td>\n",
              "      <td>950</td>\n",
              "      <td>30</td>\n",
              "      <td>10</td>\n",
              "      <td>2.76</td>\n",
              "      <td>2.0</td>\n",
              "    </tr>\n",
              "    <tr>\n",
              "      <th>183</th>\n",
              "      <td>3.5</td>\n",
              "      <td>0.2</td>\n",
              "      <td>0.2</td>\n",
              "      <td>40</td>\n",
              "      <td>50</td>\n",
              "      <td>150</td>\n",
              "      <td>1100</td>\n",
              "      <td>30</td>\n",
              "      <td>10</td>\n",
              "      <td>2.26</td>\n",
              "      <td>2.0</td>\n",
              "    </tr>\n",
              "    <tr>\n",
              "      <th>70</th>\n",
              "      <td>2.0</td>\n",
              "      <td>0.3</td>\n",
              "      <td>0.2</td>\n",
              "      <td>40</td>\n",
              "      <td>50</td>\n",
              "      <td>150</td>\n",
              "      <td>900</td>\n",
              "      <td>30</td>\n",
              "      <td>10</td>\n",
              "      <td>1.32</td>\n",
              "      <td>2.0</td>\n",
              "    </tr>\n",
              "  </tbody>\n",
              "</table>\n",
              "</div>"
            ],
            "text/plain": [
              "     beta  eps_d  v_rad  n_wz  d0  s_ax    Tu  alfa  kappa  v_ax  rillen_io\n",
              "153   2.0    0.2    0.2    40  50   150  1000    55      1  1.26        2.0\n",
              "125   4.0    0.3    0.2    40  50   150  1000    30     10  2.67        2.0\n",
              "126   4.0    0.3    0.2    40  50   150   950    30     10  2.76        2.0\n",
              "183   3.5    0.2    0.2    40  50   150  1100    30     10  2.26        2.0\n",
              "70    2.0    0.3    0.2    40  50   150   900    30     10  1.32        2.0"
            ]
          },
          "metadata": {
            "tags": []
          },
          "execution_count": 24
        }
      ]
    },
    {
      "cell_type": "code",
      "metadata": {
        "id": "FnbfrvpvqEuI",
        "colab_type": "code",
        "colab": {}
      },
      "source": [
        "X = total[['beta', 'eps_d', 'v_rad', 'n_wz', 'd0', 's_ax', 'Tu', 'alfa', 'kappa', 'v_ax']]\n",
        "Y = total[['rillen_io']]\n",
        "scaler = StandardScaler()\n",
        "X_scaled = scaler.fit_transform(X)\n",
        "# %%\n",
        "X_train, X_test, Y_train, Y_test = train_test_split(X_scaled, Y, train_size=0.8, random_state=rand)"
      ],
      "execution_count": 0,
      "outputs": []
    },
    {
      "cell_type": "code",
      "metadata": {
        "id": "GP-iqRozqdB7",
        "colab_type": "code",
        "colab": {}
      },
      "source": [
        "svc = SVC(kernel='rbf')\n",
        "params = {'C': np.logspace(-5,10, 16),\n",
        "  'gamma': np.logspace(-5, 5, 11),\n",
        "}\n",
        "grid = GridSearchCV(svc, params, n_jobs=-1)"
      ],
      "execution_count": 0,
      "outputs": []
    },
    {
      "cell_type": "code",
      "metadata": {
        "id": "p_kPwVcSqhGS",
        "colab_type": "code",
        "colab": {
          "base_uri": "https://localhost:8080/",
          "height": 373
        },
        "outputId": "72686080-2a3f-4d26-d2c9-c48d67dd6a8c"
      },
      "source": [
        "grid.fit(X_train, Y_train)"
      ],
      "execution_count": 29,
      "outputs": [
        {
          "output_type": "stream",
          "text": [
            "/usr/local/lib/python3.6/dist-packages/sklearn/model_selection/_split.py:1978: FutureWarning: The default value of cv will change from 3 to 5 in version 0.22. Specify it explicitly to silence this warning.\n",
            "  warnings.warn(CV_WARNING, FutureWarning)\n",
            "/usr/local/lib/python3.6/dist-packages/sklearn/model_selection/_search.py:814: DeprecationWarning: The default of the `iid` parameter will change from True to False in version 0.22 and will be removed in 0.24. This will change numeric results when test-set sizes are unequal.\n",
            "  DeprecationWarning)\n",
            "/usr/local/lib/python3.6/dist-packages/sklearn/utils/validation.py:724: DataConversionWarning: A column-vector y was passed when a 1d array was expected. Please change the shape of y to (n_samples, ), for example using ravel().\n",
            "  y = column_or_1d(y, warn=True)\n"
          ],
          "name": "stderr"
        },
        {
          "output_type": "execute_result",
          "data": {
            "text/plain": [
              "GridSearchCV(cv='warn', error_score='raise-deprecating',\n",
              "             estimator=SVC(C=1.0, cache_size=200, class_weight=None, coef0=0.0,\n",
              "                           decision_function_shape='ovr', degree=3,\n",
              "                           gamma='auto_deprecated', kernel='rbf', max_iter=-1,\n",
              "                           probability=False, random_state=None, shrinking=True,\n",
              "                           tol=0.001, verbose=False),\n",
              "             iid='warn', n_jobs=-1,\n",
              "             param_grid={'C': array([1.e-05, 1.e-04, 1.e-03, 1.e-02, 1.e-01, 1.e+00, 1.e+01, 1.e+02,\n",
              "       1.e+03, 1.e+04, 1.e+05, 1.e+06, 1.e+07, 1.e+08, 1.e+09, 1.e+10]),\n",
              "                         'gamma': array([1.e-05, 1.e-04, 1.e-03, 1.e-02, 1.e-01, 1.e+00, 1.e+01, 1.e+02,\n",
              "       1.e+03, 1.e+04, 1.e+05])},\n",
              "             pre_dispatch='2*n_jobs', refit=True, return_train_score=False,\n",
              "             scoring=None, verbose=0)"
            ]
          },
          "metadata": {
            "tags": []
          },
          "execution_count": 29
        }
      ]
    },
    {
      "cell_type": "code",
      "metadata": {
        "id": "IzzY1awnqjZ-",
        "colab_type": "code",
        "colab": {
          "base_uri": "https://localhost:8080/",
          "height": 35
        },
        "outputId": "06c9f1c6-bcab-46b4-eba6-2ec750568896"
      },
      "source": [
        "grid.best_estimator_.score(X_test, Y_test)"
      ],
      "execution_count": 30,
      "outputs": [
        {
          "output_type": "execute_result",
          "data": {
            "text/plain": [
              "0.8043478260869565"
            ]
          },
          "metadata": {
            "tags": []
          },
          "execution_count": 30
        }
      ]
    },
    {
      "cell_type": "code",
      "metadata": {
        "id": "hRGyAf8orvaa",
        "colab_type": "code",
        "colab": {
          "base_uri": "https://localhost:8080/",
          "height": 88
        },
        "outputId": "73667fe1-27e1-4294-9497-0deeb6a35eaf"
      },
      "source": [
        "grid.best_estimator_"
      ],
      "execution_count": 33,
      "outputs": [
        {
          "output_type": "execute_result",
          "data": {
            "text/plain": [
              "SVC(C=1000000.0, cache_size=200, class_weight=None, coef0=0.0,\n",
              "    decision_function_shape='ovr', degree=3, gamma=0.001, kernel='rbf',\n",
              "    max_iter=-1, probability=False, random_state=None, shrinking=True,\n",
              "    tol=0.001, verbose=False)"
            ]
          },
          "metadata": {
            "tags": []
          },
          "execution_count": 33
        }
      ]
    },
    {
      "cell_type": "code",
      "metadata": {
        "id": "c_kybvaEr1gl",
        "colab_type": "code",
        "colab": {
          "base_uri": "https://localhost:8080/",
          "height": 707
        },
        "outputId": "06bb5ca7-45c2-47e7-c2aa-07db75cdf631"
      },
      "source": [
        "pd.DataFrame(grid.cv_results_).sort_values('rank_test_score')"
      ],
      "execution_count": 34,
      "outputs": [
        {
          "output_type": "execute_result",
          "data": {
            "text/html": [
              "<div>\n",
              "<style scoped>\n",
              "    .dataframe tbody tr th:only-of-type {\n",
              "        vertical-align: middle;\n",
              "    }\n",
              "\n",
              "    .dataframe tbody tr th {\n",
              "        vertical-align: top;\n",
              "    }\n",
              "\n",
              "    .dataframe thead th {\n",
              "        text-align: right;\n",
              "    }\n",
              "</style>\n",
              "<table border=\"1\" class=\"dataframe\">\n",
              "  <thead>\n",
              "    <tr style=\"text-align: right;\">\n",
              "      <th></th>\n",
              "      <th>mean_fit_time</th>\n",
              "      <th>std_fit_time</th>\n",
              "      <th>mean_score_time</th>\n",
              "      <th>std_score_time</th>\n",
              "      <th>param_C</th>\n",
              "      <th>param_gamma</th>\n",
              "      <th>params</th>\n",
              "      <th>split0_test_score</th>\n",
              "      <th>split1_test_score</th>\n",
              "      <th>split2_test_score</th>\n",
              "      <th>mean_test_score</th>\n",
              "      <th>std_test_score</th>\n",
              "      <th>rank_test_score</th>\n",
              "    </tr>\n",
              "  </thead>\n",
              "  <tbody>\n",
              "    <tr>\n",
              "      <th>123</th>\n",
              "      <td>0.214348</td>\n",
              "      <td>0.021180</td>\n",
              "      <td>0.001031</td>\n",
              "      <td>0.000046</td>\n",
              "      <td>1e+06</td>\n",
              "      <td>0.001</td>\n",
              "      <td>{'C': 1000000.0, 'gamma': 0.001}</td>\n",
              "      <td>0.819672</td>\n",
              "      <td>0.783333</td>\n",
              "      <td>0.694915</td>\n",
              "      <td>0.766667</td>\n",
              "      <td>0.052271</td>\n",
              "      <td>1</td>\n",
              "    </tr>\n",
              "    <tr>\n",
              "      <th>112</th>\n",
              "      <td>0.029370</td>\n",
              "      <td>0.014375</td>\n",
              "      <td>0.001143</td>\n",
              "      <td>0.000102</td>\n",
              "      <td>100000</td>\n",
              "      <td>0.001</td>\n",
              "      <td>{'C': 100000.0, 'gamma': 0.001}</td>\n",
              "      <td>0.803279</td>\n",
              "      <td>0.783333</td>\n",
              "      <td>0.694915</td>\n",
              "      <td>0.761111</td>\n",
              "      <td>0.046941</td>\n",
              "      <td>2</td>\n",
              "    </tr>\n",
              "    <tr>\n",
              "      <th>133</th>\n",
              "      <td>0.415808</td>\n",
              "      <td>0.316496</td>\n",
              "      <td>0.001027</td>\n",
              "      <td>0.000042</td>\n",
              "      <td>1e+07</td>\n",
              "      <td>0.0001</td>\n",
              "      <td>{'C': 10000000.0, 'gamma': 0.0001}</td>\n",
              "      <td>0.770492</td>\n",
              "      <td>0.783333</td>\n",
              "      <td>0.728814</td>\n",
              "      <td>0.761111</td>\n",
              "      <td>0.023159</td>\n",
              "      <td>2</td>\n",
              "    </tr>\n",
              "    <tr>\n",
              "      <th>91</th>\n",
              "      <td>0.012319</td>\n",
              "      <td>0.009413</td>\n",
              "      <td>0.000992</td>\n",
              "      <td>0.000016</td>\n",
              "      <td>1000</td>\n",
              "      <td>0.01</td>\n",
              "      <td>{'C': 1000.0, 'gamma': 0.01}</td>\n",
              "      <td>0.803279</td>\n",
              "      <td>0.766667</td>\n",
              "      <td>0.677966</td>\n",
              "      <td>0.750000</td>\n",
              "      <td>0.052492</td>\n",
              "      <td>4</td>\n",
              "    </tr>\n",
              "    <tr>\n",
              "      <th>122</th>\n",
              "      <td>0.071466</td>\n",
              "      <td>0.022941</td>\n",
              "      <td>0.001044</td>\n",
              "      <td>0.000011</td>\n",
              "      <td>1e+06</td>\n",
              "      <td>0.0001</td>\n",
              "      <td>{'C': 1000000.0, 'gamma': 0.0001}</td>\n",
              "      <td>0.770492</td>\n",
              "      <td>0.766667</td>\n",
              "      <td>0.711864</td>\n",
              "      <td>0.750000</td>\n",
              "      <td>0.026676</td>\n",
              "      <td>4</td>\n",
              "    </tr>\n",
              "    <tr>\n",
              "      <th>...</th>\n",
              "      <td>...</td>\n",
              "      <td>...</td>\n",
              "      <td>...</td>\n",
              "      <td>...</td>\n",
              "      <td>...</td>\n",
              "      <td>...</td>\n",
              "      <td>...</td>\n",
              "      <td>...</td>\n",
              "      <td>...</td>\n",
              "      <td>...</td>\n",
              "      <td>...</td>\n",
              "      <td>...</td>\n",
              "      <td>...</td>\n",
              "    </tr>\n",
              "    <tr>\n",
              "      <th>46</th>\n",
              "      <td>0.002536</td>\n",
              "      <td>0.000213</td>\n",
              "      <td>0.001056</td>\n",
              "      <td>0.000070</td>\n",
              "      <td>0.1</td>\n",
              "      <td>0.001</td>\n",
              "      <td>{'C': 0.1, 'gamma': 0.001}</td>\n",
              "      <td>0.540984</td>\n",
              "      <td>0.550000</td>\n",
              "      <td>0.542373</td>\n",
              "      <td>0.544444</td>\n",
              "      <td>0.003969</td>\n",
              "      <td>95</td>\n",
              "    </tr>\n",
              "    <tr>\n",
              "      <th>47</th>\n",
              "      <td>0.004422</td>\n",
              "      <td>0.002199</td>\n",
              "      <td>0.004228</td>\n",
              "      <td>0.003494</td>\n",
              "      <td>0.1</td>\n",
              "      <td>0.01</td>\n",
              "      <td>{'C': 0.1, 'gamma': 0.01}</td>\n",
              "      <td>0.540984</td>\n",
              "      <td>0.550000</td>\n",
              "      <td>0.542373</td>\n",
              "      <td>0.544444</td>\n",
              "      <td>0.003969</td>\n",
              "      <td>95</td>\n",
              "    </tr>\n",
              "    <tr>\n",
              "      <th>49</th>\n",
              "      <td>0.002691</td>\n",
              "      <td>0.000080</td>\n",
              "      <td>0.001068</td>\n",
              "      <td>0.000042</td>\n",
              "      <td>0.1</td>\n",
              "      <td>1</td>\n",
              "      <td>{'C': 0.1, 'gamma': 1.0}</td>\n",
              "      <td>0.540984</td>\n",
              "      <td>0.550000</td>\n",
              "      <td>0.542373</td>\n",
              "      <td>0.544444</td>\n",
              "      <td>0.003969</td>\n",
              "      <td>95</td>\n",
              "    </tr>\n",
              "    <tr>\n",
              "      <th>42</th>\n",
              "      <td>0.002946</td>\n",
              "      <td>0.000132</td>\n",
              "      <td>0.001099</td>\n",
              "      <td>0.000013</td>\n",
              "      <td>0.01</td>\n",
              "      <td>10000</td>\n",
              "      <td>{'C': 0.01, 'gamma': 10000.0}</td>\n",
              "      <td>0.540984</td>\n",
              "      <td>0.550000</td>\n",
              "      <td>0.542373</td>\n",
              "      <td>0.544444</td>\n",
              "      <td>0.003969</td>\n",
              "      <td>95</td>\n",
              "    </tr>\n",
              "    <tr>\n",
              "      <th>175</th>\n",
              "      <td>0.003501</td>\n",
              "      <td>0.000054</td>\n",
              "      <td>0.001208</td>\n",
              "      <td>0.000083</td>\n",
              "      <td>1e+10</td>\n",
              "      <td>100000</td>\n",
              "      <td>{'C': 10000000000.0, 'gamma': 100000.0}</td>\n",
              "      <td>0.540984</td>\n",
              "      <td>0.550000</td>\n",
              "      <td>0.542373</td>\n",
              "      <td>0.544444</td>\n",
              "      <td>0.003969</td>\n",
              "      <td>95</td>\n",
              "    </tr>\n",
              "  </tbody>\n",
              "</table>\n",
              "<p>176 rows × 13 columns</p>\n",
              "</div>"
            ],
            "text/plain": [
              "     mean_fit_time  std_fit_time  ...  std_test_score  rank_test_score\n",
              "123       0.214348      0.021180  ...        0.052271                1\n",
              "112       0.029370      0.014375  ...        0.046941                2\n",
              "133       0.415808      0.316496  ...        0.023159                2\n",
              "91        0.012319      0.009413  ...        0.052492                4\n",
              "122       0.071466      0.022941  ...        0.026676                4\n",
              "..             ...           ...  ...             ...              ...\n",
              "46        0.002536      0.000213  ...        0.003969               95\n",
              "47        0.004422      0.002199  ...        0.003969               95\n",
              "49        0.002691      0.000080  ...        0.003969               95\n",
              "42        0.002946      0.000132  ...        0.003969               95\n",
              "175       0.003501      0.000054  ...        0.003969               95\n",
              "\n",
              "[176 rows x 13 columns]"
            ]
          },
          "metadata": {
            "tags": []
          },
          "execution_count": 34
        }
      ]
    },
    {
      "cell_type": "code",
      "metadata": {
        "id": "Aygv80JwsJE6",
        "colab_type": "code",
        "colab": {}
      },
      "source": [
        ""
      ],
      "execution_count": 0,
      "outputs": []
    }
  ]
}